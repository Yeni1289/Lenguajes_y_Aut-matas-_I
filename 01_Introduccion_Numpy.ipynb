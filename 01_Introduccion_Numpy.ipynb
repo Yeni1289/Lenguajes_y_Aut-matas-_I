{
 "cells": [
  {
   "cell_type": "markdown",
   "id": "ceb95f8d",
   "metadata": {},
   "source": [
    "# Introduccion a NumPy\n"
   ]
  },
  {
   "cell_type": "markdown",
   "id": "edc9b088",
   "metadata": {},
   "source": [
    "[Numpy](https://numpy.org/doc/stable/) es una biblioteca fundamental\n",
    "para la computación científica con Python.\n",
    "\n",
    "* Proporciona arrays N-dimensionales.\n",
    "\n",
    "* Implementa funciones matemáticas sofisticadas.\n",
    "\n",
    "* Proporciona herramientas para integrar C/C++ y Fortran.\n",
    "\n",
    "* Proporciona mecanismos para facilitar la realización de tareas relacionadas con el álgebra lineal o números aleatorios.\n"
   ]
  },
  {
   "cell_type": "markdown",
   "id": "e308ab0f",
   "metadata": {},
   "source": [
    "## Imports\n",
    "\n"
   ]
  },
  {
   "cell_type": "code",
   "execution_count": 1,
   "id": "debe8b45",
   "metadata": {},
   "outputs": [],
   "source": [
    "import numpy as np\n"
   ]
  },
  {
   "cell_type": "markdown",
   "id": "456f3431",
   "metadata": {},
   "source": [
    "### Arrays\n",
    "\n",
    "Un *array* es una estructura de datos que consiste en una colección de elementos (valores o variables),  \n",
    "cada uno identificado por al menos un índice o clave.\n",
    "\n",
    "Un array se almacena de modo que la posición de cada elemento pueda calcularse a partir de su tupla de índices mediante una fórmula matemática.\n",
    "\n",
    "El tipo más simple de array es el array lineal, también llamado **array unidimensional**.\n"
   ]
  },
  {
   "cell_type": "markdown",
   "id": "aad6b38e",
   "metadata": {},
   "source": [
    "En NumPy:\n",
    "\n",
    "- Cada dimensión se denomina **axis**.  \n",
    "- El número de dimensiones se denomina **rank**.  \n",
    "- La lista de dimensiones con su correspondiente longitud se denomina **shape**.  \n",
    "- El número total de elementos (multiplicación de las longitudes de las dimensiones) se denomina **size**.\n"
   ]
  },
  {
   "cell_type": "code",
   "execution_count": 3,
   "id": "84507bc7",
   "metadata": {},
   "outputs": [
    {
     "name": "stdout",
     "output_type": "stream",
     "text": [
      "[[0. 0. 0. 0.]\n",
      " [0. 0. 0. 0.]]\n"
     ]
    }
   ],
   "source": [
    "# Array cuyos valores son todos ceros\n",
    "a = np.zeros((2, 4))\n",
    "print(a)\n"
   ]
  },
  {
   "cell_type": "code",
   "execution_count": 4,
   "id": "09d34b87",
   "metadata": {},
   "outputs": [
    {
     "data": {
      "text/plain": [
       "array([[0., 0., 0., 0.],\n",
       "       [0., 0., 0., 0.]])"
      ]
     },
     "execution_count": 4,
     "metadata": {},
     "output_type": "execute_result"
    }
   ],
   "source": [
    "a"
   ]
  },
  {
   "cell_type": "markdown",
   "id": "ac8a6204",
   "metadata": {},
   "source": [
    "**a** es un array:\n",
    "\n",
    "* con dos **axis**, el primero de longitud 2 y el segundo de longitud 4.  \n",
    "* con un **rank** igual a 2.  \n",
    "* con un **shape** igual a `(2, 4)`.  \n",
    "* con un **size** igual a 8.\n"
   ]
  },
  {
   "cell_type": "code",
   "execution_count": 6,
   "id": "132e95eb",
   "metadata": {},
   "outputs": [
    {
     "data": {
      "text/plain": [
       "(2, 4)"
      ]
     },
     "execution_count": 6,
     "metadata": {},
     "output_type": "execute_result"
    }
   ],
   "source": [
    "a.shape"
   ]
  },
  {
   "cell_type": "code",
   "execution_count": 7,
   "id": "23c20bf7",
   "metadata": {},
   "outputs": [
    {
     "data": {
      "text/plain": [
       "2"
      ]
     },
     "execution_count": 7,
     "metadata": {},
     "output_type": "execute_result"
    }
   ],
   "source": [
    "a.ndim"
   ]
  },
  {
   "cell_type": "code",
   "execution_count": 8,
   "id": "e6baedfb",
   "metadata": {},
   "outputs": [
    {
     "data": {
      "text/plain": [
       "8"
      ]
     },
     "execution_count": 8,
     "metadata": {},
     "output_type": "execute_result"
    }
   ],
   "source": [
    "a.size"
   ]
  },
  {
   "cell_type": "markdown",
   "id": "b324e654",
   "metadata": {},
   "source": [
    "### Creacion de Arrays"
   ]
  },
  {
   "cell_type": "code",
   "execution_count": 9,
   "id": "49216f56",
   "metadata": {},
   "outputs": [
    {
     "name": "stdout",
     "output_type": "stream",
     "text": [
      "[[[0. 0. 0. 0.]\n",
      "  [0. 0. 0. 0.]\n",
      "  [0. 0. 0. 0.]]\n",
      "\n",
      " [[0. 0. 0. 0.]\n",
      "  [0. 0. 0. 0.]\n",
      "  [0. 0. 0. 0.]]]\n"
     ]
    }
   ],
   "source": [
    "# Array cuyos valores son todos 0\n",
    "# Dimensiones: 2 bloques, cada uno con 3 filas y 4 columnas\n",
    "a = np.zeros((2, 3, 4))\n",
    "print(a)\n"
   ]
  },
  {
   "cell_type": "code",
   "execution_count": 10,
   "id": "e59e5669",
   "metadata": {},
   "outputs": [
    {
     "name": "stdout",
     "output_type": "stream",
     "text": [
      "[[[1. 1. 1. 1.]\n",
      "  [1. 1. 1. 1.]\n",
      "  [1. 1. 1. 1.]\n",
      "  [1. 1. 1. 1.]]\n",
      "\n",
      " [[1. 1. 1. 1.]\n",
      "  [1. 1. 1. 1.]\n",
      "  [1. 1. 1. 1.]\n",
      "  [1. 1. 1. 1.]]]\n"
     ]
    }
   ],
   "source": [
    "# Array cuyos valores son todos 1\n",
    "a = np.ones((2, 4, 4))\n",
    "print(a)\n"
   ]
  },
  {
   "cell_type": "code",
   "execution_count": 11,
   "id": "cd9799ab",
   "metadata": {},
   "outputs": [
    {
     "name": "stdout",
     "output_type": "stream",
     "text": [
      "[[[8 8 8 8]\n",
      "  [8 8 8 8]\n",
      "  [8 8 8 8]]\n",
      "\n",
      " [[8 8 8 8]\n",
      "  [8 8 8 8]\n",
      "  [8 8 8 8]]]\n"
     ]
    }
   ],
   "source": [
    "# Array cuyo valor es el indicado como\n",
    "# segundo parámetro de la función\n",
    "a = np.full((2, 3, 4), 8)\n",
    "print(a)\n"
   ]
  },
  {
   "cell_type": "code",
   "execution_count": 14,
   "id": "b94639c0",
   "metadata": {},
   "outputs": [
    {
     "name": "stdout",
     "output_type": "stream",
     "text": [
      "[[[0. 0. 0. 0.]\n",
      "  [0. 0. 0. 0.]\n",
      "  [0. 0. 0. 0.]]\n",
      "\n",
      " [[0. 0. 0. 0.]\n",
      "  [0. 0. 0. 0.]\n",
      "  [0. 0. 0. 0.]]]\n"
     ]
    }
   ],
   "source": [
    "# El resultado de np.empty no es predecible\n",
    "# Inicializa los valores del array con lo que haya en la memoria en ese momento\n",
    "a = np.empty((2, 3, 4))\n",
    "print(a)\n"
   ]
  },
  {
   "cell_type": "code",
   "execution_count": 15,
   "id": "73097628",
   "metadata": {},
   "outputs": [
    {
     "name": "stdout",
     "output_type": "stream",
     "text": [
      "[[1 2 3]\n",
      " [4 5 6]]\n"
     ]
    }
   ],
   "source": [
    "# Inicializar un array de NumPy a partir de una lista de Python\n",
    "b = np.array([[1, 2, 3], [4, 5, 6]])\n",
    "print(b)\n"
   ]
  },
  {
   "cell_type": "code",
   "execution_count": 16,
   "id": "4235345b",
   "metadata": {},
   "outputs": [
    {
     "data": {
      "text/plain": [
       "(2, 3)"
      ]
     },
     "execution_count": 16,
     "metadata": {},
     "output_type": "execute_result"
    }
   ],
   "source": [
    "b.shape"
   ]
  },
  {
   "cell_type": "code",
   "execution_count": 17,
   "id": "662d4604",
   "metadata": {},
   "outputs": [
    {
     "name": "stdout",
     "output_type": "stream",
     "text": [
      "[0.         0.66666667 1.33333333 2.         2.66666667 3.33333333\n",
      " 4.         4.66666667 5.33333333 6.        ]\n"
     ]
    }
   ],
   "source": [
    "# Crear un array utilizando una función basada en rangos\n",
    "# En el siguiente orden (mínimo, máximo, número de elementos)\n",
    "print(np.linspace(0, 6, 10))\n"
   ]
  },
  {
   "cell_type": "code",
   "execution_count": 18,
   "id": "a1c282cd",
   "metadata": {},
   "outputs": [
    {
     "name": "stdout",
     "output_type": "stream",
     "text": [
      "[[[0.4265152  0.68943109 0.4282056  0.46336383]\n",
      "  [0.06522439 0.78077779 0.95631199 0.89744427]\n",
      "  [0.38526536 0.48379975 0.31815878 0.95341957]]\n",
      "\n",
      " [[0.22623891 0.5791808  0.37876782 0.1577468 ]\n",
      "  [0.7654583  0.13490424 0.40381512 0.83177126]\n",
      "  [0.84381137 0.93960005 0.18718333 0.23097337]]]\n"
     ]
    }
   ],
   "source": [
    "# Inicializar un array con valores aleatorios uniformes entre 0 y 1\n",
    "a = np.random.rand(2, 3, 4)\n",
    "print(a)\n"
   ]
  },
  {
   "cell_type": "code",
   "execution_count": 19,
   "id": "ffa9ce8b",
   "metadata": {},
   "outputs": [
    {
     "name": "stdout",
     "output_type": "stream",
     "text": [
      "[[ 0.16742631  0.18379381  1.05681035  0.31576442]\n",
      " [-0.93301157  0.36708667 -0.4590785   1.0457193 ]]\n"
     ]
    }
   ],
   "source": [
    "# Inicializar un array con valores aleatorios conforme a una\n",
    "# distribución normal estándar (media 0, desviación estándar 1)\n",
    "a = np.random.randn(2, 4)\n",
    "print(a)\n"
   ]
  },
  {
   "cell_type": "code",
   "execution_count": 20,
   "id": "39116390",
   "metadata": {},
   "outputs": [
    {
     "data": {
      "image/png": "[encoded data removed]",
      "text/plain": [
       "<Figure size 640x480 with 1 Axes>"
      ]
     },
     "metadata": {},
     "output_type": "display_data"
    }
   ],
   "source": [
    "%matplotlib inline\n",
    "import matplotlib.pyplot as plt\n",
    "import numpy as np\n",
    "\n",
    "# Generar 1000 números aleatorios con distribución normal estándar\n",
    "c = np.random.randn(1000)\n",
    "\n",
    "# Crear un histograma con 50 bins\n",
    "plt.hist(c, bins=50)\n",
    "\n",
    "# Mostrar el gráfico\n",
    "plt.show()\n"
   ]
  },
  {
   "cell_type": "code",
   "execution_count": 21,
   "id": "a2a7f9f8",
   "metadata": {},
   "outputs": [
    {
     "name": "stdout",
     "output_type": "stream",
     "text": [
      "[[ 0.  2.  4.  6.  8.]\n",
      " [ 1.  3.  5.  7.  9.]\n",
      " [ 2.  4.  6.  8. 10.]]\n"
     ]
    }
   ],
   "source": [
    "# Definir una función personalizada para generar valores del array\n",
    "def fun(X, Y):\n",
    "    return X + 2 * Y\n",
    "\n",
    "# Crear un array usando la función 'fun' y la forma (3, 5)\n",
    "a = np.fromfunction(fun, (3, 5))\n",
    "print(a)\n"
   ]
  },
  {
   "cell_type": "markdown",
   "id": "36cb52ac",
   "metadata": {},
   "source": [
    "### Acceso a los elementos de un array\n",
    "\n",
    "#### Array Unidimensional\n"
   ]
  },
  {
   "cell_type": "code",
   "execution_count": 22,
   "id": "8e307161",
   "metadata": {},
   "outputs": [
    {
     "name": "stdout",
     "output_type": "stream",
     "text": [
      "Shape: (6,)\n",
      "Array unidimensional: [ 1  3  5  7  9 11]\n"
     ]
    }
   ],
   "source": [
    "# Crear un array unidimensional\n",
    "array_uni = np.array([1, 3, 5, 7, 9, 11])\n",
    "print(\"Shape:\", array_uni.shape)\n",
    "print(\"Array unidimensional:\", array_uni)\n"
   ]
  },
  {
   "cell_type": "code",
   "execution_count": 23,
   "id": "5d215067",
   "metadata": {},
   "outputs": [
    {
     "name": "stdout",
     "output_type": "stream",
     "text": [
      "9\n"
     ]
    }
   ],
   "source": [
    "# Acceder al quinto elemento del array (índice 4)\n",
    "print(array_uni[4])\n"
   ]
  },
  {
   "cell_type": "code",
   "execution_count": 24,
   "id": "7f43825e",
   "metadata": {},
   "outputs": [
    {
     "name": "stdout",
     "output_type": "stream",
     "text": [
      "[5 7]\n"
     ]
    }
   ],
   "source": [
    "# Acceder al tercer y cuarto elemento del array (índices 2 y 3)\n",
    "print(array_uni[2:4])\n"
   ]
  },
  {
   "cell_type": "code",
   "execution_count": 25,
   "id": "5ed14cd3",
   "metadata": {},
   "outputs": [
    {
     "name": "stdout",
     "output_type": "stream",
     "text": [
      "[ 1  7 11]\n"
     ]
    }
   ],
   "source": [
    "# Acceder a los elementos en las posiciones 0, 3 y 5 del array\n",
    "print(array_uni[[0, 3, 5]])\n"
   ]
  },
  {
   "cell_type": "markdown",
   "id": "0d9de559",
   "metadata": {},
   "source": [
    "#### Array multidimensional\n"
   ]
  },
  {
   "cell_type": "code",
   "execution_count": 26,
   "id": "5bdd395a",
   "metadata": {},
   "outputs": [
    {
     "name": "stdout",
     "output_type": "stream",
     "text": [
      "Shape: (2, 4)\n",
      "array_multi:\n",
      " [[1 2 3 4]\n",
      " [5 6 7 8]]\n"
     ]
    }
   ],
   "source": [
    "# Crear un array multidimensional\n",
    "array_multi = np.array([[1, 2, 3, 4], [5, 6, 7, 8]])\n",
    "print(\"Shape:\", array_multi.shape)\n",
    "print(\"array_multi:\\n\", array_multi)\n"
   ]
  },
  {
   "cell_type": "code",
   "execution_count": 27,
   "id": "741c1b62",
   "metadata": {},
   "outputs": [
    {
     "name": "stdout",
     "output_type": "stream",
     "text": [
      "4\n"
     ]
    }
   ],
   "source": [
    "# Acceder al cuarto elemento del primer subarray (fila 0, columna 3)\n",
    "print(array_multi[0, 3])\n"
   ]
  },
  {
   "cell_type": "code",
   "execution_count": 28,
   "id": "dcd05a10",
   "metadata": {},
   "outputs": [
    {
     "name": "stdout",
     "output_type": "stream",
     "text": [
      "[5 6 7 8]\n"
     ]
    }
   ],
   "source": [
    "# Acceder a la segunda fila del array\n",
    "print(array_multi[1, :])\n"
   ]
  },
  {
   "cell_type": "code",
   "execution_count": 29,
   "id": "a9763b02",
   "metadata": {},
   "outputs": [
    {
     "name": "stdout",
     "output_type": "stream",
     "text": [
      "[3 7]\n"
     ]
    }
   ],
   "source": [
    "# Acceder al tercer elemento de las dos primeras filas del array\n",
    "print(array_multi[0:2, 2])\n"
   ]
  },
  {
   "cell_type": "markdown",
   "id": "e20b9d15",
   "metadata": {},
   "source": [
    "### Modificar un array\n"
   ]
  },
  {
   "cell_type": "code",
   "execution_count": 30,
   "id": "ac7d1b39",
   "metadata": {},
   "outputs": [
    {
     "name": "stdout",
     "output_type": "stream",
     "text": [
      "Shape: (28,)\n",
      "array1:\n",
      " [ 0  1  2  3  4  5  6  7  8  9 10 11 12 13 14 15 16 17 18 19 20 21 22 23\n",
      " 24 25 26 27]\n"
     ]
    }
   ],
   "source": [
    "# Crear un array unidimensional e inicializarlo con \n",
    "# el rango de elementos del 0 al 27\n",
    "array1 = np.arange(28)\n",
    "print(\"Shape:\", array1.shape)\n",
    "print(\"array1:\\n\", array1)\n"
   ]
  },
  {
   "cell_type": "code",
   "execution_count": 31,
   "id": "cbc9f458",
   "metadata": {},
   "outputs": [
    {
     "name": "stdout",
     "output_type": "stream",
     "text": [
      "Shape: (7, 4)\n",
      "array1:\n",
      " [[ 0  1  2  3]\n",
      " [ 4  5  6  7]\n",
      " [ 8  9 10 11]\n",
      " [12 13 14 15]\n",
      " [16 17 18 19]\n",
      " [20 21 22 23]\n",
      " [24 25 26 27]]\n"
     ]
    }
   ],
   "source": [
    "# Cambiar las dimensiones del array a (7, 4)\n",
    "array1.shape = (7, 4)\n",
    "print(\"Shape:\", array1.shape)\n",
    "print(\"array1:\\n\", array1)\n"
   ]
  },
  {
   "cell_type": "code",
   "execution_count": 32,
   "id": "497c0e7c",
   "metadata": {},
   "outputs": [
    {
     "name": "stdout",
     "output_type": "stream",
     "text": [
      "Shape: (4, 7)\n",
      "array2:\n",
      " [[ 0  1  2  3  4  5  6]\n",
      " [ 7  8  9 10 11 12 13]\n",
      " [14 15 16 17 18 19 20]\n",
      " [21 22 23 24 25 26 27]]\n",
      "array1:\n",
      " [[ 0  1  2  3]\n",
      " [ 4  5  6  7]\n",
      " [ 8  9 10 11]\n",
      " [12 13 14 15]\n",
      " [16 17 18 19]\n",
      " [20 21 22 23]\n",
      " [24 25 26 27]]\n"
     ]
    }
   ],
   "source": [
    "# El ejemplo anterior devuelve un nuevo array que apunta a los mismos datos\n",
    "# Nota: las modificaciones de un array afectan al otro, ya que comparten la misma memoria\n",
    "array2 = array1.reshape(4, 7)\n",
    "print(\"Shape:\", array2.shape)\n",
    "print(\"array2:\\n\", array2)\n",
    "print(\"array1:\\n\", array1)\n"
   ]
  },
  {
   "cell_type": "code",
   "execution_count": 33,
   "id": "1c8f97e8",
   "metadata": {},
   "outputs": [
    {
     "name": "stdout",
     "output_type": "stream",
     "text": [
      "array1:\n",
      " [[ 0  1  2 20]\n",
      " [ 4  5  6  7]\n",
      " [ 8  9 10 11]\n",
      " [12 13 14 15]\n",
      " [16 17 18 19]\n",
      " [20 21 22 23]\n",
      " [24 25 26 27]]\n",
      "array2:\n",
      " [[ 0  1  2 20  4  5  6]\n",
      " [ 7  8  9 10 11 12 13]\n",
      " [14 15 16 17 18 19 20]\n",
      " [21 22 23 24 25 26 27]]\n"
     ]
    }
   ],
   "source": [
    "# Modificar el array devuelto\n",
    "array2[0, 3] = 20\n",
    "print(\"array1:\\n\", array1)\n",
    "print(\"array2:\\n\", array2)\n",
    "\n",
    "# Los punteros sirven para compartir datos entre arrays, \n",
    "# por lo que al modificar uno, el otro también cambia \n",
    "# a menos que hagas una copia independiente.\n"
   ]
  },
  {
   "cell_type": "code",
   "execution_count": 34,
   "id": "a74c95a9",
   "metadata": {},
   "outputs": [
    {
     "name": "stdout",
     "output_type": "stream",
     "text": [
      "array1 ravel: [ 0  1  2 20  4  5  6  7  8  9 10 11 12 13 14 15 16 17 18 19 20 21 22 23\n",
      " 24 25 26 27]\n"
     ]
    }
   ],
   "source": [
    "# Regresar el array devolviendo un nuevo array de una sola dimensión\n",
    "# Nota: el nuevo array apunta a los mismos datos (no es una copia independiente)\n",
    "print(\"array1 ravel:\", array1.ravel())\n"
   ]
  },
  {
   "cell_type": "markdown",
   "id": "d0573de6",
   "metadata": {},
   "source": [
    "#### Operaciones aritméticas con arrays\n"
   ]
  }
 ],
 "metadata": {
  "kernelspec": {
   "display_name": ".venv",
   "language": "python",
   "name": "python3"
  },
  "language_info": {
   "codemirror_mode": {
    "name": "ipython",
    "version": 3
   },
   "file_extension": ".py",
   "mimetype": "text/x-python",
   "name": "python",
   "nbconvert_exporter": "python",
   "pygments_lexer": "ipython3",
   "version": "3.12.3"
  }
 },
 "nbformat": 4,
 "nbformat_minor": 5
}
